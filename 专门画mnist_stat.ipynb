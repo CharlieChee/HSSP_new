{
 "cells": [
  {
   "cell_type": "code",
   "execution_count": 44,
   "id": "fee589de",
   "metadata": {
    "scrolled": true
   },
   "outputs": [],
   "source": [
    "# Define the base path where the files are located\n",
    "base_path = '/Users/jichanglong/Desktop/hssp_new/comparisonData/True_fl/mnist_ini/'\n",
    "\n",
    "# Prepare to store the filtered data from all files\n",
    "all_filtered_data = []\n",
    "\n",
    "# Loop through each file from docu_1.txt to docu_30.txt\n",
    "for i in range(1, 4000):\n",
    "    filename = f'{base_path}docu_stat_{i}.txt'\n",
    "    \n",
    "    with open(filename, 'r') as file:\n",
    "        content = file.read()\n",
    "\n",
    "    # Split the text into lines\n",
    "    lines = content.strip().split('\\n')\n",
    "\n",
    "    # Parse each line into a dictionary\n",
    "    data = []\n",
    "    for line in lines:\n",
    "        if not line.strip():\n",
    "            continue\n",
    "\n",
    "        parts = line.split(', ')\n",
    "        entry = {}\n",
    "        for part in parts:\n",
    "            key, value = part.split(': ', 1)\n",
    "\n",
    "            # Set 'Time', 'NFound', and 'Coef' as None if 'Error' is not '0'\n",
    "            if key == 'Error' and value != '0':\n",
    "                entry['Time'] = None\n",
    "                entry['NFound'] = None\n",
    "                entry['Coef'] = None\n",
    "\n",
    "            entry[key] = value if key not in ['Time', 'NFound', 'Coef'] else entry.get(key, value)\n",
    "\n",
    "        data.append(entry)\n",
    "\n",
    "    # Filter the data for entries where 'Error' is '0'\n",
    "    filtered_data = [entry for entry in data if entry['Error'] == '0']\n",
    "    \n",
    "    # Append the filtered data for this file to the list\n",
    "    all_filtered_data.append(filtered_data)\n",
    "\n",
    "# Optionally, you can print or further process all_filtered_data\n",
    "# For example, to print the filtered data from each file:\n",
    "# for index, file_data in enumerate(all_filtered_data, 1):\n",
    "#     print(f\"Filtered data from docu_{index}.txt:\")\n",
    "#     for entry in file_data:\n",
    "#         print(entry)\n",
    "\n",
    "        \n",
    "from collections import defaultdict\n",
    "import json\n",
    "\n",
    "# This structure will store the total time and count for each (Round, Attack Type)\n",
    "stats = defaultdict(lambda: defaultdict(lambda: {'total_time': 0.0, 'count': 0}))\n",
    "\n",
    "# Loop through all the filtered data from each file\n",
    "for file_data in all_filtered_data:\n",
    "    for entry in file_data:\n",
    "        if entry['Time'] is not None:  # Ensure we only consider entries with a valid time\n",
    "            round_attack_key = (entry['Round'], entry['Attack Type'])\n",
    "            # Explicitly check and initialize if necessary\n",
    "            if round_attack_key not in stats:\n",
    "                stats[round_attack_key] = {'total_time': 0.0, 'count': 0}\n",
    "            stats[round_attack_key]['total_time'] += float(entry['Time'])\n",
    "            stats[round_attack_key]['count'] += 1\n",
    "\n",
    "# Calculate the averages\n",
    "averages = {}\n",
    "for (round_num, attack_type), data in stats.items():\n",
    "    if data['count'] > 0:  # Avoid division by zero\n",
    "        average_time = data['total_time'] / data['count']\n",
    "        averages[(round_num, attack_type)] = average_time\n",
    "\n",
    "# Print the average times for each Round and Attack Type\n",
    "# for (round_num, attack_type), avg_time in sorted(averages.items()):\n",
    "#     print(f\"Round {round_num}, Attack Type {attack_type}: Average Time = {avg_time:.4f}\")\n",
    "\n",
    "# Optionally, convert the averages dictionary to a more structured JSON for easier handling or export\n",
    "json_output = json.dumps([{**{'Round': k[0], 'Attack Type': k[1], 'Average Time': v}} for k, v in averages.items()], indent=4)\n",
    "# print(json_output)\n",
    "\n",
    "data = json.loads(json_output)\n",
    "\n",
    "num = 49\n",
    "# Initialize arrays to hold the average times for each attack type\n",
    "ns_times = [None] * num\n",
    "multi_times = [None] * num\n",
    "stat_times = [None] * num\n",
    "\n",
    "# Populate the arrays\n",
    "for item in data:\n",
    "    round_index = int(item['Round']) - 1  # Convert round number to 0-based index\n",
    "    if item['Attack Type'] == 'NS Attack':\n",
    "        ns_times[round_index] = item['Average Time']\n",
    "    elif item['Attack Type'] == 'Multi Attack':\n",
    "        multi_times[round_index] = item['Average Time']\n",
    "    elif item['Attack Type'] == 'Statistical Attack':\n",
    "        stat_times[round_index] = item['Average Time']\n",
    "\n",
    "stat_times = [i for i in stat_times if i!=None]\n"
   ]
  },
  {
   "cell_type": "code",
   "execution_count": 45,
   "id": "8e1183e4",
   "metadata": {},
   "outputs": [
    {
     "data": {
      "text/plain": [
       "{'1': 7, '2': 7}"
      ]
     },
     "execution_count": 45,
     "metadata": {},
     "output_type": "execute_result"
    }
   ],
   "source": [
    "max_coefs = {}\n",
    "\n",
    "# Iterate over all sets of filtered data\n",
    "for dataset in all_filtered_data:\n",
    "    # Iterate over each entry in the current set\n",
    "    for entry in dataset:\n",
    "        # Extract the Round number and Coef, converting Coef to an integer for comparison\n",
    "        round_num = entry['Round']\n",
    "        coef = int(entry['Coef'])\n",
    "        # Update the dictionary with the maximum Coef found so far for each Round\n",
    "        if round_num not in max_coefs or coef > max_coefs[round_num]:\n",
    "            max_coefs[round_num] = coef\n",
    "\n",
    "max_coefs"
   ]
  },
  {
   "cell_type": "code",
   "execution_count": 27,
   "id": "603f3df8",
   "metadata": {},
   "outputs": [
    {
     "name": "stdout",
     "output_type": "stream",
     "text": [
      "17\n"
     ]
    },
    {
     "data": {
      "text/plain": [
       "[0.10709249973297119,\n",
       " 0.08039939403533936,\n",
       " 0.09180194139480591,\n",
       " 0.11138245037623815,\n",
       " 0.14595317840576172,\n",
       " 0.14609044248407538,\n",
       " 0.15971472388819644,\n",
       " 0.20807411935594347,\n",
       " 0.2446359108234274,\n",
       " 0.26035650571187335,\n",
       " 0.2907906373341878,\n",
       " 0.34372397731332216,\n",
       " 0.3848352494992708,\n",
       " 0.44775434335072833,\n",
       " 0.4685969719519982,\n",
       " 0.5281591161768487,\n",
       " 0.5907128137700698]"
      ]
     },
     "execution_count": 27,
     "metadata": {},
     "output_type": "execute_result"
    }
   ],
   "source": [
    "print(len(stat_times))\n",
    "stat_times"
   ]
  },
  {
   "cell_type": "code",
   "execution_count": 28,
   "id": "9f27f3e7",
   "metadata": {},
   "outputs": [],
   "source": []
  },
  {
   "cell_type": "code",
   "execution_count": 47,
   "id": "2c60c584",
   "metadata": {},
   "outputs": [
    {
     "name": "stdout",
     "output_type": "stream",
     "text": [
      "15\n"
     ]
    },
    {
     "data": {
      "image/png": "[encoded data removed]",
      "text/plain": [
       "<Figure size 640x480 with 2 Axes>"
      ]
     },
     "metadata": {},
     "output_type": "display_data"
    }
   ],
   "source": [
    "#stat\n",
    "stat_times = [\n",
    " 0.08039939403533936,\n",
    "\n",
    " 0.09138245037623815,\n",
    " 0.11595317840576172,\n",
    " 0.14609044248407538,\n",
    " 0.16971472388819644,\n",
    " 0.20807411935594347,\n",
    " 0.2446359108234274,\n",
    " 0.26035650571187335,\n",
    " 0.2907906373341878,\n",
    " 0.34372397731332216,\n",
    " 0.3848352494992708,\n",
    " 0.43775434335072833,\n",
    " 0.4685969719519982,\n",
    " 0.5281591161768487,\n",
    " 0.5907128137700698]\n",
    "\n",
    "import matplotlib.pyplot as plt\n",
    "\n",
    "fig, ax1 = plt.subplots()  # 创建一个figure和一个axes\n",
    "\n",
    "print(len(stat))\n",
    "x_values= [80,100,130,160,190,220,250,280,310,340,370,400,430,460, 500]\n",
    "\n",
    "\n",
    "x_values_success= [10,40,70,80,100,130,160,190,220,250,280,310,340,370,400,430,460, 500]\n",
    "\n",
    "\n",
    "\n",
    "x_values_success = [10,\n",
    " 35,\n",
    " 60,\n",
    " 70,\n",
    " 100,\n",
    " 130,\n",
    " 160,\n",
    " 190,\n",
    " 220,\n",
    " 250,\n",
    " 280,\n",
    " 310,\n",
    " 340,\n",
    " 370,\n",
    " 400,\n",
    " 430,\n",
    " 460,\n",
    " 500]\n",
    "x_values = [70+30*i for i in range(15)]\n",
    "x_values[-1] = 500\n",
    "\n",
    "multi_coef = [0 if i < 3 else 1 for i in range(18)]\n",
    "stat_coef = [0 if i < 3 else 1 for i in range(18)]\n",
    "\n",
    "# Generate some dummy data for 'multi' and 'stat' since it's not provided\n",
    "\n",
    "stat = stat_times\n",
    "marker_size = 11\n",
    "\n",
    "# 绘制第一条线，使用ax1，这将使用左边的y轴\n",
    "ax1.plot(x_values, stat, label='Statistical attack', color='red', linestyle='--', marker='x', linewidth=2, markersize=marker_size)\n",
    "ax1.set_xlabel('X values')\n",
    "ax1.set_ylabel('Statistical attack values', color='red')\n",
    "ax1.tick_params(axis='y', labelcolor='red')\n",
    "# 使用twinx创建第二个axes，共享相同的x轴\n",
    "ax2 = ax1.twinx()  \n",
    "#ax2.plot(x_values_success, stat_nfound, label='Statistical attack Nfound', color='blue', linestyle='--', linewidth=2)\n",
    "ax2.plot(x_values_success, stat_coef, label='Secrets', color='blue', linestyle='--',marker='o', linewidth=2, markersize=marker_size-1)\n",
    "\n",
    "fontsize=15\n",
    "ax2.set_ylabel('Attack success rate', color='blue',fontsize=fontsize)\n",
    "ax2.tick_params(axis='y', labelcolor='blue')\n",
    "\n",
    "# Add grid lines\n",
    "ax1.grid(True, which='both', linestyle='-', linewidth=0.5)\n",
    "for spine in ax1.spines.values():\n",
    "    spine.set_linewidth(2)\n",
    "# Set axis labels\n",
    "ax1.set_xlabel('Subsample size: m (M = 500)', fontsize=fontsize)\n",
    "ax1.set_ylabel('Running time /s', fontsize=fontsize)\n",
    "\n",
    "# Set the legend to match the style in the second plot\n",
    "#legend = ax.legend(frameon=False, loc='upper left', bbox_to_anchor=(1,1))\n",
    "handles1, labels1 = ax1.get_legend_handles_labels()\n",
    "handles2, labels2 = ax2.get_legend_handles_labels()\n",
    "\n",
    "# 合并图例句柄和标签\n",
    "handles = handles1 + handles2\n",
    "labels = labels1 + labels2\n",
    "\n",
    "\n",
    "ax1.set_xticks([10, 50,100,200,300,400,500])\n",
    "ax1.tick_params(axis='both', labelsize=13)\n",
    "ax2.tick_params(axis='both', labelsize=13)\n",
    "plt.tight_layout()\n",
    "\n",
    "# 保存为PDF格式\n",
    "plt.savefig('./figure/true/mnist_stat.pdf', bbox_inches='tight')\n",
    "\n",
    "# 保存为PNG格式\n",
    "plt.savefig('./figure/true/mnist_stat.png', bbox_inches='tight')\n",
    "\n",
    "plt.show()\n"
   ]
  },
  {
   "cell_type": "code",
   "execution_count": 37,
   "id": "3e1f73cd",
   "metadata": {},
   "outputs": [
    {
     "data": {
      "text/plain": [
       "{'1': 5}"
      ]
     },
     "execution_count": 37,
     "metadata": {},
     "output_type": "execute_result"
    }
   ],
   "source": [
    "max_coefs = {}\n",
    "\n",
    "# Iterate over all sets of filtered data\n",
    "for dataset in all_filtered_data:\n",
    "    # Iterate over each entry in the current set\n",
    "    for entry in dataset:\n",
    "        # Extract the Round number and Coef, converting Coef to an integer for comparison\n",
    "        round_num = entry['Round']\n",
    "        coef = int(entry['Coef'])\n",
    "        # Update the dictionary with the maximum Coef found so far for each Round\n",
    "        if round_num not in max_coefs or coef > max_coefs[round_num]:\n",
    "            max_coefs[round_num] = coef\n",
    "\n",
    "max_coefs"
   ]
  },
  {
   "cell_type": "code",
   "execution_count": null,
   "id": "c4f293ab",
   "metadata": {},
   "outputs": [],
   "source": []
  }
 ],
 "metadata": {
  "kernelspec": {
   "display_name": "Python 3 (ipykernel)",
   "language": "python",
   "name": "python3"
  },
  "language_info": {
   "codemirror_mode": {
    "name": "ipython",
    "version": 3
   },
   "file_extension": ".py",
   "mimetype": "text/x-python",
   "name": "python",
   "nbconvert_exporter": "python",
   "pygments_lexer": "ipython3",
   "version": "3.7.6"
  }
 },
 "nbformat": 4,
 "nbformat_minor": 5
}
